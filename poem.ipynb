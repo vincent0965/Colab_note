{
  "nbformat": 4,
  "nbformat_minor": 0,
  "metadata": {
    "colab": {
      "name": "poem.ipynb",
      "provenance": [],
      "authorship_tag": "ABX9TyN9HCix7l8fY3jO392aWNXg",
      "include_colab_link": true
    },
    "kernelspec": {
      "name": "python3",
      "display_name": "Python 3"
    }
  },
  "cells": [
    {
      "cell_type": "markdown",
      "metadata": {
        "id": "view-in-github",
        "colab_type": "text"
      },
      "source": [
        "<a href=\"https://colab.research.google.com/github/vincent0965/Colab_note/blob/master/poem.ipynb\" target=\"_parent\"><img src=\"https://colab.research.google.com/assets/colab-badge.svg\" alt=\"Open In Colab\"/></a>"
      ]
    },
    {
      "cell_type": "code",
      "metadata": {
        "id": "gb4olGTFUaxd"
      },
      "source": [
        "from urllib.request import urlretrieve\n",
        "url = \"https://github.com/Elwing-Chou/ml0930/raw/master/poem_train.csv\"\n",
        "urlretrieve(url, \"train.csv\")\n",
        "url = \"https://github.com/Elwing-Chou/ml0930/raw/master/poem_test.csv\"\n",
        "urlretrieve(url, \"test.csv\")"
      ],
      "execution_count": null,
      "outputs": []
    },
    {
      "cell_type": "code",
      "metadata": {
        "id": "J28GLet7Vrbh"
      },
      "source": [
        "import pandas as pd\n",
        "train_df = pd.read_csv(\"train.csv\", encoding=\"utf-8\")\n",
        "train_df"
      ],
      "execution_count": null,
      "outputs": []
    },
    {
      "cell_type": "code",
      "metadata": {
        "id": "csN_VmZNVr00"
      },
      "source": [
        "test_df = pd.read_csv(\"test.csv\", encoding=\"utf-8\")\n",
        "test_df"
      ],
      "execution_count": null,
      "outputs": []
    },
    {
      "cell_type": "code",
      "metadata": {
        "id": "S-buOLEzqYFk"
      },
      "source": [
        "# Series.replace({\"李白\":0})\n",
        "# unique/value_counts\n",
        "writers = train_df[\"作者\"].unique()\n",
        "trans = {w:i for i, w in enumerate(writers)}\n",
        "trans_r = {i:w for i, w in enumerate(writers)}\n",
        "# 維度轉換\n",
        "y_train = train_df[\"作者\"].replace(trans)\n",
        "y_test = test_df[\"作者\"].replace(trans)\n",
        "y_test"
      ],
      "execution_count": null,
      "outputs": []
    },
    {
      "cell_type": "code",
      "metadata": {
        "id": "NSoaFnLmrk33"
      },
      "source": [
        "# 標點符號要去掉, \\r \\n 都要去掉\n",
        "import jieba\n",
        "p = train_df[\"內容\"][0]\n",
        "\" \".join(jieba.cut(p))"
      ],
      "execution_count": null,
      "outputs": []
    },
    {
      "cell_type": "code",
      "metadata": {
        "id": "YSoj0rWUszsk"
      },
      "source": [
        "# apply(函式名字)\n",
        "def poemcut(p):\n",
        "    return \" \".join(jieba.cut(p))\n",
        "\n",
        "# 在pandas表格中執行函式(例如poemcut)\n",
        "x_train = train_df[\"內容\"].apply(poemcut)\n",
        "x_test = test_df[\"內容\"].apply(poemcut)\n",
        "x_test"
      ],
      "execution_count": null,
      "outputs": []
    },
    {
      "cell_type": "code",
      "metadata": {
        "id": "fFVdmAPDxbPK"
      },
      "source": [
        "from sklearn.feature_extraction.text import CountVectorizer\n",
        "vec = CountVectorizer()\n",
        "x_train_count = vec.fit_transform(x_train)\n",
        "x_test_count = vec.fit_transform(x_test)"
      ],
      "execution_count": 12,
      "outputs": []
    },
    {
      "cell_type": "code",
      "metadata": {
        "id": "lKWMJBLJx1kw"
      },
      "source": [
        "x_train_count\n",
        "# 2731是指有2731首詩；52294是指有出現52294個欄位"
      ],
      "execution_count": null,
      "outputs": []
    },
    {
      "cell_type": "code",
      "metadata": {
        "id": "4-dkCeXGyOm-"
      },
      "source": [
        "print(x_train_count)\n",
        "# 只儲存非0的欄位"
      ],
      "execution_count": null,
      "outputs": []
    },
    {
      "cell_type": "code",
      "metadata": {
        "id": "feqVu4QhCFXT"
      },
      "source": [
        "from sklearn.feature_extraction.text import CountVectorizer\n",
        "vec = CountVectorizer()\n",
        "x_train_count = vec.fit_transform(x_train)\n",
        "x_test_count = vec.transform(x_test)"
      ],
      "execution_count": 37,
      "outputs": []
    },
    {
      "cell_type": "code",
      "metadata": {
        "id": "qENeIOHWyb5P"
      },
      "source": [
        "vec.vocabulary_"
      ],
      "execution_count": null,
      "outputs": []
    },
    {
      "cell_type": "code",
      "metadata": {
        "id": "u2mcRsqU6lZQ",
        "outputId": "7f4f4d52-b21f-496b-a8d9-84abacd57b46",
        "colab": {
          "base_uri": "https://localhost:8080/",
          "height": 34
        }
      },
      "source": [
        "from sklearn.naive_bayes import MultinomialNB\n",
        "clf = MultinomialNB(alpha=0.1)\n",
        "clf.fit(x_train_count, y_train)"
      ],
      "execution_count": 39,
      "outputs": [
        {
          "output_type": "execute_result",
          "data": {
            "text/plain": [
              "MultinomialNB(alpha=0.1, class_prior=None, fit_prior=True)"
            ]
          },
          "metadata": {
            "tags": []
          },
          "execution_count": 39
        }
      ]
    },
    {
      "cell_type": "code",
      "metadata": {
        "id": "oL-xay3kBkQW",
        "outputId": "f3525333-89f0-46b8-de4b-a4652fbe7896",
        "colab": {
          "base_uri": "https://localhost:8080/",
          "height": 34
        }
      },
      "source": [
        "from sklearn.metrics import accuracy_score\n",
        "pre = clf.predict(x_test_count)\n",
        "accuracy_score(pre, y_test)"
      ],
      "execution_count": 40,
      "outputs": [
        {
          "output_type": "execute_result",
          "data": {
            "text/plain": [
              "0.8333333333333334"
            ]
          },
          "metadata": {
            "tags": []
          },
          "execution_count": 40
        }
      ]
    },
    {
      "cell_type": "code",
      "metadata": {
        "id": "SvIAEKX_BkSl",
        "outputId": "e6fb0db0-506a-4e6d-bca3-b14539b0240e",
        "colab": {
          "base_uri": "https://localhost:8080/",
          "height": 136
        }
      },
      "source": [
        "\n",
        "from sklearn.metrics import confusion_matrix\n",
        "mat = confusion_matrix(y_test, pre)\n",
        "pd.DataFrame(mat,\n",
        "      index=[name + \"(原本)\" for name in writers],\n",
        "      columns=[name + \"(預測)\" for name in writers],)"
      ],
      "execution_count": 41,
      "outputs": [
        {
          "output_type": "execute_result",
          "data": {
            "text/html": [
              "<div>\n",
              "<style scoped>\n",
              "    .dataframe tbody tr th:only-of-type {\n",
              "        vertical-align: middle;\n",
              "    }\n",
              "\n",
              "    .dataframe tbody tr th {\n",
              "        vertical-align: top;\n",
              "    }\n",
              "\n",
              "    .dataframe thead th {\n",
              "        text-align: right;\n",
              "    }\n",
              "</style>\n",
              "<table border=\"1\" class=\"dataframe\">\n",
              "  <thead>\n",
              "    <tr style=\"text-align: right;\">\n",
              "      <th></th>\n",
              "      <th>李白(預測)</th>\n",
              "      <th>杜甫(預測)</th>\n",
              "      <th>白居易(預測)</th>\n",
              "    </tr>\n",
              "  </thead>\n",
              "  <tbody>\n",
              "    <tr>\n",
              "      <th>李白(原本)</th>\n",
              "      <td>8</td>\n",
              "      <td>1</td>\n",
              "      <td>1</td>\n",
              "    </tr>\n",
              "    <tr>\n",
              "      <th>杜甫(原本)</th>\n",
              "      <td>0</td>\n",
              "      <td>9</td>\n",
              "      <td>1</td>\n",
              "    </tr>\n",
              "    <tr>\n",
              "      <th>白居易(原本)</th>\n",
              "      <td>1</td>\n",
              "      <td>1</td>\n",
              "      <td>8</td>\n",
              "    </tr>\n",
              "  </tbody>\n",
              "</table>\n",
              "</div>"
            ],
            "text/plain": [
              "         李白(預測)  杜甫(預測)  白居易(預測)\n",
              "李白(原本)        8       1        1\n",
              "杜甫(原本)        0       9        1\n",
              "白居易(原本)       1       1        8"
            ]
          },
          "metadata": {
            "tags": []
          },
          "execution_count": 41
        }
      ]
    },
    {
      "cell_type": "code",
      "metadata": {
        "id": "JElucdHEBkVH",
        "outputId": "85ef7a57-7548-424d-f261-6244b0dbe940",
        "colab": {
          "base_uri": "https://localhost:8080/",
          "height": 84
        }
      },
      "source": [
        "p = input(\"輸入一首詩:\")\n",
        "x_predict = vec.transform([poemcut(p)])\n",
        "proba = clf.predict_proba(x_predict)[0]\n",
        "for w, p in zip(writers, proba):\n",
        "    print(w, \":\", p)"
      ],
      "execution_count": 42,
      "outputs": [
        {
          "output_type": "stream",
          "text": [
            "輸入一首詩:嗨嗨嗨嗨\n",
            "李白 : 0.35481508604906625\n",
            "杜甫 : 0.4236543390699377\n",
            "白居易 : 0.22153057488099598\n"
          ],
          "name": "stdout"
        }
      ]
    },
    {
      "cell_type": "code",
      "metadata": {
        "id": "-tkD5uxQBkXq"
      },
      "source": [
        ""
      ],
      "execution_count": null,
      "outputs": []
    }
  ]
}