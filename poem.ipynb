{
  "nbformat": 4,
  "nbformat_minor": 0,
  "metadata": {
    "colab": {
      "name": "poem.ipynb",
      "provenance": [],
      "authorship_tag": "ABX9TyOU5b6n0J9IZmdKGgwxUrlv",
      "include_colab_link": true
    },
    "kernelspec": {
      "name": "python3",
      "display_name": "Python 3"
    }
  },
  "cells": [
    {
      "cell_type": "markdown",
      "metadata": {
        "id": "view-in-github",
        "colab_type": "text"
      },
      "source": [
        "<a href=\"https://colab.research.google.com/github/vincent0965/Colab_note/blob/master/poem.ipynb\" target=\"_parent\"><img src=\"https://colab.research.google.com/assets/colab-badge.svg\" alt=\"Open In Colab\"/></a>"
      ]
    },
    {
      "cell_type": "code",
      "metadata": {
        "id": "gb4olGTFUaxd"
      },
      "source": [
        "from urllib.request import urlretrieve\n",
        "url = \"https://github.com/Elwing-Chou/ml0930/raw/master/poem_train.csv\"\n",
        "urlretrieve(url, \"train.csv\")\n",
        "url = \"https://github.com/Elwing-Chou/ml0930/raw/master/poem_test.csv\"\n",
        "urlretrieve(url, \"test.csv\")"
      ],
      "execution_count": null,
      "outputs": []
    },
    {
      "cell_type": "code",
      "metadata": {
        "id": "J28GLet7Vrbh"
      },
      "source": [
        "import pandas as pd\n",
        "train_df = pd.read_csv(\"train.csv\", encoding=\"utf-8\")\n",
        "train_df"
      ],
      "execution_count": null,
      "outputs": []
    },
    {
      "cell_type": "code",
      "metadata": {
        "id": "csN_VmZNVr00"
      },
      "source": [
        "test_df = pd.read_csv(\"test.csv\", encoding=\"utf-8\")\n",
        "test_df"
      ],
      "execution_count": null,
      "outputs": []
    },
    {
      "cell_type": "code",
      "metadata": {
        "id": "S-buOLEzqYFk"
      },
      "source": [
        "# Series.replace({\"李白\":0})\n",
        "# unique/value_counts\n",
        "writers = train_df[\"作者\"].unique()\n",
        "trans = {w:i for i, w in enumerate(writers)}\n",
        "trans_r = {i:w for i, w in enumerate(writers)}\n",
        "# 維度轉換\n",
        "y_train = train_df[\"作者\"].replace(trans)\n",
        "y_test = test_df[\"作者\"].replace(trans)\n",
        "y_test"
      ],
      "execution_count": null,
      "outputs": []
    },
    {
      "cell_type": "code",
      "metadata": {
        "id": "NSoaFnLmrk33"
      },
      "source": [
        "# 標點符號要去掉, \\r \\n 都要去掉\n",
        "import jieba\n",
        "p = train_df[\"內容\"][0]\n",
        "\" \".join(jieba.cut(p))"
      ],
      "execution_count": null,
      "outputs": []
    },
    {
      "cell_type": "code",
      "metadata": {
        "id": "YSoj0rWUszsk"
      },
      "source": [
        "# apply(函式名字)\n",
        "def poemcut(p):\n",
        "    return \" \".join(jieba.cut(p))\n",
        "\n",
        "# 在pandas表格中執行函式(例如poemcut)\n",
        "x_train = train_df[\"內容\"].apply(poemcut)\n",
        "x_test = test_df[\"內容\"].apply(poemcut)\n",
        "x_test"
      ],
      "execution_count": null,
      "outputs": []
    },
    {
      "cell_type": "code",
      "metadata": {
        "id": "fFVdmAPDxbPK"
      },
      "source": [
        "from sklearn.feature_extraction.text import CountVectorizer\n",
        "vec = CountVectorizer()\n",
        "x_train_count = vec.fit_transform(x_train)\n",
        "x_test_count = vec.fit_transform(x_test)"
      ],
      "execution_count": 12,
      "outputs": []
    },
    {
      "cell_type": "code",
      "metadata": {
        "id": "lKWMJBLJx1kw"
      },
      "source": [
        "x_train_count\n",
        "# 2731是指有2731首詩；52294是指有出現52294個欄位"
      ],
      "execution_count": null,
      "outputs": []
    },
    {
      "cell_type": "code",
      "metadata": {
        "id": "4-dkCeXGyOm-"
      },
      "source": [
        "print(x_train_count)\n",
        "# 只儲存非0的欄位"
      ],
      "execution_count": null,
      "outputs": []
    },
    {
      "cell_type": "code",
      "metadata": {
        "id": "qENeIOHWyb5P"
      },
      "source": [
        "vec.vocabulary_"
      ],
      "execution_count": null,
      "outputs": []
    }
  ]
}