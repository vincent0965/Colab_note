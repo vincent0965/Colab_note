{
  "nbformat": 4,
  "nbformat_minor": 0,
  "metadata": {
    "colab": {
      "name": "3_fasttext.ipynb",
      "provenance": [],
      "authorship_tag": "ABX9TyPnjdl4w74v2rofqD0kMgEy",
      "include_colab_link": true
    },
    "kernelspec": {
      "name": "python3",
      "display_name": "Python 3"
    }
  },
  "cells": [
    {
      "cell_type": "markdown",
      "metadata": {
        "id": "view-in-github",
        "colab_type": "text"
      },
      "source": [
        "<a href=\"https://colab.research.google.com/github/vincent0965/Colab_note/blob/master/3_fasttext.ipynb\" target=\"_parent\"><img src=\"https://colab.research.google.com/assets/colab-badge.svg\" alt=\"Open In Colab\"/></a>"
      ]
    },
    {
      "cell_type": "code",
      "metadata": {
        "id": "e19WejhXCFnU",
        "outputId": "eefcc137-200c-4fbb-d8a6-72379344e6fe",
        "colab": {
          "base_uri": "https://localhost:8080/",
          "height": 201
        }
      },
      "source": [
        "# download fasttext vector\n",
        "!wget https://dl.fbaipublicfiles.com/fasttext/vectors-crawl/cc.zh.300.bin.gz\n",
        "!gunzip cc.zh.300.bin.gz"
      ],
      "execution_count": 1,
      "outputs": [
        {
          "output_type": "stream",
          "text": [
            "--2020-10-27 07:52:21--  https://dl.fbaipublicfiles.com/fasttext/vectors-crawl/cc.zh.300.bin.gz\n",
            "Resolving dl.fbaipublicfiles.com (dl.fbaipublicfiles.com)... 172.67.9.4, 104.22.74.142, 104.22.75.142, ...\n",
            "Connecting to dl.fbaipublicfiles.com (dl.fbaipublicfiles.com)|172.67.9.4|:443... connected.\n",
            "HTTP request sent, awaiting response... 200 OK\n",
            "Length: 4478681770 (4.2G) [application/octet-stream]\n",
            "Saving to: ‘cc.zh.300.bin.gz’\n",
            "\n",
            "cc.zh.300.bin.gz    100%[===================>]   4.17G  23.1MB/s    in 5m 54s  \n",
            "\n",
            "2020-10-27 07:58:16 (12.1 MB/s) - ‘cc.zh.300.bin.gz’ saved [4478681770/4478681770]\n",
            "\n"
          ],
          "name": "stdout"
        }
      ]
    },
    {
      "cell_type": "code",
      "metadata": {
        "id": "ntvVeH8HDSNm",
        "outputId": "1232fa45-9a8b-484e-f5fb-b5c50a422ac5",
        "colab": {
          "base_uri": "https://localhost:8080/",
          "height": 33
        }
      },
      "source": [
        "!gunzip cc.zh.300.bin.gz"
      ],
      "execution_count": 2,
      "outputs": [
        {
          "output_type": "stream",
          "text": [
            "gzip: cc.zh.300.bin.gz: No such file or directory\n"
          ],
          "name": "stdout"
        }
      ]
    },
    {
      "cell_type": "code",
      "metadata": {
        "id": "ssvG7H2FDSQE"
      },
      "source": [
        "from gensim.models.fasttext import FastText\n",
        "model = FastText.load_fasttext_format(\"cc.zh.300.bin\")"
      ],
      "execution_count": 4,
      "outputs": []
    },
    {
      "cell_type": "code",
      "metadata": {
        "id": "pSySHk_6DSSm"
      },
      "source": [
        "import warnings\n",
        "warnings.filterwarnings(\"ignore\", category=FutureWarning)"
      ],
      "execution_count": 5,
      "outputs": []
    },
    {
      "cell_type": "code",
      "metadata": {
        "id": "eCFeCS9wDSU9",
        "outputId": "01b4d78b-ce29-4961-ea9b-0ecad1376830",
        "colab": {
          "base_uri": "https://localhost:8080/",
          "height": 33
        }
      },
      "source": [
        "len(model.wv.vocab)"
      ],
      "execution_count": 6,
      "outputs": [
        {
          "output_type": "execute_result",
          "data": {
            "text/plain": [
              "2000000"
            ]
          },
          "metadata": {
            "tags": []
          },
          "execution_count": 6
        }
      ]
    },
    {
      "cell_type": "code",
      "metadata": {
        "id": "KDqX6XRaDSXM",
        "outputId": "12be5e18-bb8d-40e5-a345-447d6cd10102",
        "colab": {
          "base_uri": "https://localhost:8080/",
          "height": 1000
        }
      },
      "source": [
        "word = \"hi\"#@param {type:\"string\"}\n",
        "print(word, \"長這樣:\")\n",
        "model.wv[word]"
      ],
      "execution_count": 7,
      "outputs": [
        {
          "output_type": "stream",
          "text": [
            "hi 長這樣:\n"
          ],
          "name": "stdout"
        },
        {
          "output_type": "execute_result",
          "data": {
            "text/plain": [
              "array([ 0.12385411,  0.19632177,  0.23472993, -0.11609859,  0.1158424 ,\n",
              "       -0.24946624,  0.25981703,  0.08639727, -0.07886707, -0.17144662,\n",
              "        0.4103227 ,  0.28509697, -0.05546365,  0.12766117, -0.05503763,\n",
              "        0.12941639, -0.0876832 , -0.00813766,  0.0333938 ,  0.12483915,\n",
              "        0.21669205, -0.04350397, -0.06394126,  0.05620269, -0.17128351,\n",
              "       -0.0929641 , -0.0521273 , -0.1296092 ,  0.1209559 , -0.18416916,\n",
              "        0.16520734,  0.2614029 ,  0.14437623,  0.13487478, -0.16647646,\n",
              "       -0.11559718,  0.21617556, -0.07144246, -0.01859174, -0.03492851,\n",
              "       -0.14007352,  0.22586384, -0.01006398,  0.13964023,  0.16788688,\n",
              "       -0.02431206,  0.16919294, -0.20013523, -0.14384493,  0.09399945,\n",
              "        0.13960624, -0.24108846,  0.40248   , -0.18827984, -0.16697085,\n",
              "       -0.03947929,  0.35096094, -0.01473741,  0.2213815 ,  0.02857545,\n",
              "        0.4221745 , -0.04449131,  0.13258313, -0.11371098,  0.23500465,\n",
              "        0.04950154,  0.28615496,  0.38563028,  0.31971997,  0.2513661 ,\n",
              "        0.15459642,  0.12752552, -0.03248077,  0.31296557, -0.15107933,\n",
              "        0.24064861, -0.01370952,  0.13931116, -0.00809687,  0.2770717 ,\n",
              "       -0.24223888, -0.18518513,  0.04563542,  0.35673195, -0.09594203,\n",
              "       -0.26216042, -0.22501694, -0.03467512,  0.24772492,  0.21923631,\n",
              "       -0.11314479,  0.1902459 ,  0.07485297, -0.2942167 ,  0.18753655,\n",
              "        0.23215671,  0.01945656,  0.34495023, -0.11404055, -0.35696295,\n",
              "        0.03700501,  0.0451506 ,  0.01506826,  0.34708416, -0.14851065,\n",
              "       -0.0322447 , -0.18171833,  0.18865018,  0.08673387, -0.29771808,\n",
              "        0.1508949 ,  0.14576559,  0.16507556,  0.15112221,  0.05180408,\n",
              "       -0.48267952, -0.0441299 , -0.127978  , -0.08328139,  0.02213474,\n",
              "       -0.12909822, -0.1468452 ,  0.05417306, -0.07591822, -0.15078615,\n",
              "        0.07518048, -0.11078998, -0.13472237, -0.19920726, -0.00572804,\n",
              "       -0.00325009,  0.21948051,  0.08172356,  0.17922266,  0.07786117,\n",
              "        0.25222018, -0.03246565,  0.30533594,  0.04643336,  0.08352118,\n",
              "        0.32278463,  0.00394139,  0.05440645,  0.12270126, -0.42181054,\n",
              "        0.06085019,  0.22593105, -0.07947578,  0.05566287, -0.19168523,\n",
              "       -0.09108703,  0.11667873,  0.23691125, -0.3419426 ,  0.02771318,\n",
              "       -0.05268012, -0.22875452, -0.2592833 , -0.17268176,  0.16305195,\n",
              "       -0.05557124, -0.10907798,  0.277925  , -0.15701123, -0.0442494 ,\n",
              "        0.04340605, -0.01118083, -0.24996248,  0.2503207 ,  0.12007002,\n",
              "        0.14144066,  0.124012  ,  0.00289267,  0.26180235,  0.3461072 ,\n",
              "       -0.11870524,  0.26617843, -0.04356867, -0.10609417,  0.08091526,\n",
              "       -0.00807215,  0.0552542 , -0.02072337, -0.1675428 ,  0.03724141,\n",
              "       -0.21966527, -0.06032749,  0.07595244,  0.37896153,  0.19406965,\n",
              "        0.12809171, -0.11437802,  0.04374234,  0.13043432,  0.06138517,\n",
              "        0.10832284,  0.04035025,  0.00647788,  0.11379929, -0.06971986,\n",
              "       -0.19765003,  0.10825217, -0.2481182 , -0.0939386 , -0.12320192,\n",
              "        0.06786747, -0.05261755, -0.10755091,  0.10186777,  0.05934452,\n",
              "       -0.24317761, -0.03699306, -0.18677443,  0.00790458, -0.06959442,\n",
              "        0.01689682,  0.06757265, -0.08103023,  0.00910424, -0.11550123,\n",
              "       -0.04064094, -0.44390243, -0.11423545, -0.1499807 , -0.21886724,\n",
              "        0.08275444, -0.05885648,  0.03585036,  0.29582107,  0.24803159,\n",
              "        0.13651243,  0.8206306 , -0.21678455,  0.17639394,  0.0280733 ,\n",
              "        0.487541  , -0.3231855 , -0.16985147, -0.00256527,  0.07104848,\n",
              "       -0.17159976,  0.09008934, -0.01821151, -0.05497037, -0.05716378,\n",
              "        0.2066899 , -0.06455765, -0.31896332, -0.23996772, -0.39812908,\n",
              "       -0.06037195,  0.25018305,  0.2766676 ,  0.15072024,  0.06312729,\n",
              "       -0.20755416, -0.22443682,  0.01972255, -0.06991643, -0.4519262 ,\n",
              "       -0.00614372, -0.18602224,  0.03238577, -0.26267788,  0.02728696,\n",
              "       -0.03023946,  0.11947723, -0.22243421,  0.05575278, -0.15941972,\n",
              "        0.00127587, -0.11456696, -0.2906432 , -0.20012206, -0.13697788,\n",
              "       -0.21445978, -0.10644575,  0.11009423, -0.11863842, -0.0411194 ,\n",
              "       -0.41432416,  0.06246457,  0.03239823,  0.05898979,  0.1377013 ,\n",
              "       -0.09386576, -0.10626025, -0.08392033, -0.20957614, -0.22694252,\n",
              "        0.06494161,  0.04609448,  0.18677364, -0.07916123, -0.10994915,\n",
              "       -0.01584273, -0.04930382, -0.09824719, -0.10484409, -0.16300386],\n",
              "      dtype=float32)"
            ]
          },
          "metadata": {
            "tags": []
          },
          "execution_count": 7
        }
      ]
    },
    {
      "cell_type": "code",
      "metadata": {
        "id": "EuyZTyl9DSZt",
        "outputId": "4888f096-a9fd-4dbd-acc0-a7be50a2d556",
        "colab": {
          "base_uri": "https://localhost:8080/",
          "height": 184
        }
      },
      "source": [
        "#@title 找出相似詞!!!\n",
        "\n",
        "text = '\\u5BF6\\u7279\\u74F6' #@param {type:\"string\"}\n",
        "model.wv.most_similar(text)"
      ],
      "execution_count": 19,
      "outputs": [
        {
          "output_type": "execute_result",
          "data": {
            "text/plain": [
              "[('寶特', 0.7044309377670288),\n",
              " ('保特瓶', 0.6683709025382996),\n",
              " ('塑膠杯', 0.6620464324951172),\n",
              " ('特瓶', 0.6250177025794983),\n",
              " ('飲料杯', 0.6241474151611328),\n",
              " ('塑膠瓶', 0.6179043054580688),\n",
              " ('鋁罐', 0.6160836219787598),\n",
              " ('膠樽', 0.6108219623565674),\n",
              " ('鋁箔包', 0.6068729162216187),\n",
              " ('飲料瓶', 0.602088212966919)]"
            ]
          },
          "metadata": {
            "tags": []
          },
          "execution_count": 19
        }
      ]
    },
    {
      "cell_type": "code",
      "metadata": {
        "id": "-QnFimcdDScG",
        "outputId": "7300d9b5-3854-4ccb-bd63-fdf4e64b59e5",
        "colab": {
          "base_uri": "https://localhost:8080/",
          "height": 33
        }
      },
      "source": [
        "#@title 比較兩個特定詞的相似度\n",
        "\n",
        "text1 = '\\u5DDD\\u666E' #@param {type:\"string\"}\n",
        "text2 = '\\u62DC\\u767B' #@param {type:\"string\"}\n",
        "model.wv.similarity(text1, text2)"
      ],
      "execution_count": 21,
      "outputs": [
        {
          "output_type": "execute_result",
          "data": {
            "text/plain": [
              "0.45634496"
            ]
          },
          "metadata": {
            "tags": []
          },
          "execution_count": 21
        }
      ]
    },
    {
      "cell_type": "code",
      "metadata": {
        "id": "HxWD9JpiDSeZ",
        "outputId": "1f1c13bd-531b-4b67-af89-0969a317ff4a",
        "colab": {
          "base_uri": "https://localhost:8080/",
          "height": 33
        }
      },
      "source": [
        "#@title 找出不一樣的東西!\n",
        "\n",
        "text1 = '\\u92FC\\u9435\\u4EBA' #@param {type:\"string\"}\n",
        "text2 = '\\u62DC\\u767B' #@param {type:\"string\"}\n",
        "text3 = '\\u6D69\\u514B' #@param {type:\"string\"}\n",
        "text4 = '\\u666E\\u4E01' #@param {type:\"string\"}\n",
        "\n",
        "notmatch = model.wv.doesnt_match([text1, text2, text3, text4])\n",
        "print(\"不是同一掛的:\", notmatch)"
      ],
      "execution_count": 24,
      "outputs": [
        {
          "output_type": "stream",
          "text": [
            "不是同一掛的: 普丁\n"
          ],
          "name": "stdout"
        }
      ]
    },
    {
      "cell_type": "code",
      "metadata": {
        "id": "_DKUcsiEDSgz"
      },
      "source": [
        "#@title 給電腦做智力測驗(詞1 - 詞3 = ? - 詞2)\n",
        "\n",
        "# text1 + text2 - text3 = ?\n",
        "# text1 - text3 = ? - text2\n",
        "text1 = 'king' #@param {type:\"string\"}\n",
        "text2 = 'woman' #@param {type:\"string\"}\n",
        "text3 = 'man' #@param {type:\"string\"}\n",
        "question = model.wv.most_similar(positive=[text1, text2], negative=[text3])\n",
        "print(text1, \"-\", text3, \"=\", \"?\", \"-\", text2)\n",
        "question"
      ],
      "execution_count": null,
      "outputs": []
    },
    {
      "cell_type": "code",
      "metadata": {
        "id": "NsBBuBEBDSjU"
      },
      "source": [
        "text = \"machine-washabled\"\n",
        "print(\"machine-washabled有在字典裡?\", text in model.wv.vocab)\n",
        "model.wv.similarity(text, \"washable\")"
      ],
      "execution_count": null,
      "outputs": []
    },
    {
      "cell_type": "code",
      "metadata": {
        "id": "CD1inFlSDSls"
      },
      "source": [
        ""
      ],
      "execution_count": null,
      "outputs": []
    },
    {
      "cell_type": "code",
      "metadata": {
        "id": "hQv1HYayDSoW"
      },
      "source": [
        ""
      ],
      "execution_count": null,
      "outputs": []
    }
  ]
}