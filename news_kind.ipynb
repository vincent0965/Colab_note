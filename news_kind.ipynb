{
  "nbformat": 4,
  "nbformat_minor": 0,
  "metadata": {
    "colab": {
      "name": "news_kind.ipynb",
      "provenance": [],
      "mount_file_id": "12iCgHSNOtA_xKuyirIB2WXJ5Bp1T9C8A",
      "authorship_tag": "ABX9TyPCmm1VExrl3LE+LsKGPvlP",
      "include_colab_link": true
    },
    "kernelspec": {
      "name": "python3",
      "display_name": "Python 3"
    }
  },
  "cells": [
    {
      "cell_type": "markdown",
      "metadata": {
        "id": "view-in-github",
        "colab_type": "text"
      },
      "source": [
        "<a href=\"https://colab.research.google.com/github/vincent0965/Colab_note/blob/master/news_kind.ipynb\" target=\"_parent\"><img src=\"https://colab.research.google.com/assets/colab-badge.svg\" alt=\"Open In Colab\"/></a>"
      ]
    },
    {
      "cell_type": "code",
      "metadata": {
        "id": "Juxvjxm6w4ma"
      },
      "source": [
        "import glob\n",
        "glob.glob(\"drive/My Drive/*\")"
      ],
      "execution_count": null,
      "outputs": []
    },
    {
      "cell_type": "code",
      "metadata": {
        "id": "rNAOeJjsycTG"
      },
      "source": [
        "import zipfile\n",
        "path = \"drive/My Drive/chinese_news_test.zip\"\n",
        "f = zipfile.ZipFile(path)\n",
        "f.extractall()\n",
        "path = \"drive/My Drive/chinese_news_trans.zip\"\n",
        "f = zipfile.ZipFile(path)\n",
        "f.extractall()"
      ],
      "execution_count": 8,
      "outputs": []
    },
    {
      "cell_type": "code",
      "metadata": {
        "id": "VkyZtA7Jycav"
      },
      "source": [
        "import os\n",
        "import glob\n",
        "import pandas as pd\n",
        "\n",
        "def read_data(base):\n",
        "    contents, targets = [], []\n",
        "    basedn = os.path.join(base, \"*\")\n",
        "    for dn in glob.glob(basedn):\n",
        "        upper = os.path.join(dn, \"*.TXT\")\n",
        "        lower = os.path.join(dn, \"*.txt\")\n",
        "        for fn in glob.glob(upper) + glob.glob(lower):\n",
        "            with open(fn, \"r\", encoding=\"utf-8\") as f:\n",
        "                contents.append(f.read())\n",
        "            target = os.path.split(dn)[-1]\n",
        "            targets.append(target)\n",
        "    df = pd.DataFrame({\n",
        "        \"content\":contents,\n",
        "        \"target\":targets\n",
        "    })\n",
        "    return df\n",
        "train_df = read_data(\"chinese_news_trans\")\n",
        "test_df = read_data(\"chinese_news_test\")"
      ],
      "execution_count": 7,
      "outputs": []
    },
    {
      "cell_type": "code",
      "metadata": {
        "id": "qXS2GsBE5gR8",
        "outputId": "0317833e-a41c-4e91-dc63-b68db57ec795",
        "colab": {
          "base_uri": "https://localhost:8080/",
          "height": 402
        }
      },
      "source": [
        "train_df"
      ],
      "execution_count": 9,
      "outputs": [
        {
          "output_type": "execute_result",
          "data": {
            "text/html": [
              "<div>\n",
              "<style scoped>\n",
              "    .dataframe tbody tr th:only-of-type {\n",
              "        vertical-align: middle;\n",
              "    }\n",
              "\n",
              "    .dataframe tbody tr th {\n",
              "        vertical-align: top;\n",
              "    }\n",
              "\n",
              "    .dataframe thead th {\n",
              "        text-align: right;\n",
              "    }\n",
              "</style>\n",
              "<table border=\"1\" class=\"dataframe\">\n",
              "  <thead>\n",
              "    <tr style=\"text-align: right;\">\n",
              "      <th></th>\n",
              "      <th>content</th>\n",
              "      <th>target</th>\n",
              "    </tr>\n",
              "  </thead>\n",
              "  <tbody>\n",
              "    <tr>\n",
              "      <th>0</th>\n",
              "      <td>《瞭望》週刊文章：一個全球性的環境問題——垃圾\\n新華社北京５月１２日...</td>\n",
              "      <td>環境</td>\n",
              "    </tr>\n",
              "    <tr>\n",
              "      <th>1</th>\n",
              "      <td>英國確定溫室效應政策\\n新華社倫敦５月２５日電為了對付由於溫室效應引起...</td>\n",
              "      <td>環境</td>\n",
              "    </tr>\n",
              "    <tr>\n",
              "      <th>2</th>\n",
              "      <td>【 日  期 】19960610\\n【 版  號 】10\\n【 標  題 】海南人的藍色樂章...</td>\n",
              "      <td>環境</td>\n",
              "    </tr>\n",
              "    <tr>\n",
              "      <th>3</th>\n",
              "      <td>經國務院批准我國長江中上游防護林體系建設工程全\\n面展開\\n    (...</td>\n",
              "      <td>環境</td>\n",
              "    </tr>\n",
              "    <tr>\n",
              "      <th>4</th>\n",
              "      <td>【 日  期 】19960105\\n【 版  號 】7\\n【 標  題 】科學家選出２０種最...</td>\n",
              "      <td>環境</td>\n",
              "    </tr>\n",
              "    <tr>\n",
              "      <th>...</th>\n",
              "      <td>...</td>\n",
              "      <td>...</td>\n",
              "    </tr>\n",
              "    <tr>\n",
              "      <th>2632</th>\n",
              "      <td>日月光華 -- Economics精華區文章閱讀\\n--------------------...</td>\n",
              "      <td>經濟</td>\n",
              "    </tr>\n",
              "    <tr>\n",
              "      <th>2633</th>\n",
              "      <td>日月光華 -- Economics精華區文章閱讀\\n--------------------...</td>\n",
              "      <td>經濟</td>\n",
              "    </tr>\n",
              "    <tr>\n",
              "      <th>2634</th>\n",
              "      <td>日月光華 -- Economics精華區文章閱讀\\n--------------------...</td>\n",
              "      <td>經濟</td>\n",
              "    </tr>\n",
              "    <tr>\n",
              "      <th>2635</th>\n",
              "      <td>日月光華 -- Economics精華區文章閱讀\\n--------------------...</td>\n",
              "      <td>經濟</td>\n",
              "    </tr>\n",
              "    <tr>\n",
              "      <th>2636</th>\n",
              "      <td>日月光華 -- Economics精華區文章閱讀\\n--------------------...</td>\n",
              "      <td>經濟</td>\n",
              "    </tr>\n",
              "  </tbody>\n",
              "</table>\n",
              "<p>2637 rows × 2 columns</p>\n",
              "</div>"
            ],
            "text/plain": [
              "                                                content target\n",
              "0                《瞭望》週刊文章：一個全球性的環境問題——垃圾\\n新華社北京５月１２日...     環境\n",
              "1                英國確定溫室效應政策\\n新華社倫敦５月２５日電為了對付由於溫室效應引起...     環境\n",
              "2     【 日  期 】19960610\\n【 版  號 】10\\n【 標  題 】海南人的藍色樂章...     環境\n",
              "3                經國務院批准我國長江中上游防護林體系建設工程全\\n面展開\\n    (...     環境\n",
              "4     【 日  期 】19960105\\n【 版  號 】7\\n【 標  題 】科學家選出２０種最...     環境\n",
              "...                                                 ...    ...\n",
              "2632  日月光華 -- Economics精華區文章閱讀\\n--------------------...     經濟\n",
              "2633  日月光華 -- Economics精華區文章閱讀\\n--------------------...     經濟\n",
              "2634  日月光華 -- Economics精華區文章閱讀\\n--------------------...     經濟\n",
              "2635  日月光華 -- Economics精華區文章閱讀\\n--------------------...     經濟\n",
              "2636  日月光華 -- Economics精華區文章閱讀\\n--------------------...     經濟\n",
              "\n",
              "[2637 rows x 2 columns]"
            ]
          },
          "metadata": {
            "tags": []
          },
          "execution_count": 9
        }
      ]
    },
    {
      "cell_type": "code",
      "metadata": {
        "id": "QrzvjW-6yckA",
        "outputId": "2d16d0cf-70fc-46e7-fc85-9545b6d6364e",
        "colab": {
          "base_uri": "https://localhost:8080/",
          "height": 402
        }
      },
      "source": [
        "test_df"
      ],
      "execution_count": 10,
      "outputs": [
        {
          "output_type": "execute_result",
          "data": {
            "text/html": [
              "<div>\n",
              "<style scoped>\n",
              "    .dataframe tbody tr th:only-of-type {\n",
              "        vertical-align: middle;\n",
              "    }\n",
              "\n",
              "    .dataframe tbody tr th {\n",
              "        vertical-align: top;\n",
              "    }\n",
              "\n",
              "    .dataframe thead th {\n",
              "        text-align: right;\n",
              "    }\n",
              "</style>\n",
              "<table border=\"1\" class=\"dataframe\">\n",
              "  <thead>\n",
              "    <tr style=\"text-align: right;\">\n",
              "      <th></th>\n",
              "      <th>content</th>\n",
              "      <th>target</th>\n",
              "    </tr>\n",
              "  </thead>\n",
              "  <tbody>\n",
              "    <tr>\n",
              "      <th>0</th>\n",
              "      <td>日月光華 -- FDU_E.S.E.精華區文章閱讀\\n-------------------...</td>\n",
              "      <td>環境</td>\n",
              "    </tr>\n",
              "    <tr>\n",
              "      <th>1</th>\n",
              "      <td>日月光華 -- FDU_E.S.E.精華區文章閱讀\\n-------------------...</td>\n",
              "      <td>環境</td>\n",
              "    </tr>\n",
              "    <tr>\n",
              "      <th>2</th>\n",
              "      <td>日月光華 -- FDU_E.S.E.精華區文章閱讀\\n-------------------...</td>\n",
              "      <td>環境</td>\n",
              "    </tr>\n",
              "    <tr>\n",
              "      <th>3</th>\n",
              "      <td>日月光華 -- FDU_E.S.E.精華區文章閱讀\\n-------------------...</td>\n",
              "      <td>環境</td>\n",
              "    </tr>\n",
              "    <tr>\n",
              "      <th>4</th>\n",
              "      <td>日月光華 -- FDU_E.S.E.精華區文章閱讀\\n-------------------...</td>\n",
              "      <td>環境</td>\n",
              "    </tr>\n",
              "    <tr>\n",
              "      <th>...</th>\n",
              "      <td>...</td>\n",
              "      <td>...</td>\n",
              "    </tr>\n",
              "    <tr>\n",
              "      <th>96</th>\n",
              "      <td>日月光華 -- Economics精華區文章閱讀\\n--------------------...</td>\n",
              "      <td>經濟</td>\n",
              "    </tr>\n",
              "    <tr>\n",
              "      <th>97</th>\n",
              "      <td>日月光華 -- Economics精華區文章閱讀\\n--------------------...</td>\n",
              "      <td>經濟</td>\n",
              "    </tr>\n",
              "    <tr>\n",
              "      <th>98</th>\n",
              "      <td>日月光華 -- Economics精華區文章閱讀\\n--------------------...</td>\n",
              "      <td>經濟</td>\n",
              "    </tr>\n",
              "    <tr>\n",
              "      <th>99</th>\n",
              "      <td>日月光華 -- Economics精華區文章閱讀\\n--------------------...</td>\n",
              "      <td>經濟</td>\n",
              "    </tr>\n",
              "    <tr>\n",
              "      <th>100</th>\n",
              "      <td>日月光華 -- Economics精華區文章閱讀\\n--------------------...</td>\n",
              "      <td>經濟</td>\n",
              "    </tr>\n",
              "  </tbody>\n",
              "</table>\n",
              "<p>101 rows × 2 columns</p>\n",
              "</div>"
            ],
            "text/plain": [
              "                                               content target\n",
              "0    日月光華 -- FDU_E.S.E.精華區文章閱讀\\n-------------------...     環境\n",
              "1    日月光華 -- FDU_E.S.E.精華區文章閱讀\\n-------------------...     環境\n",
              "2    日月光華 -- FDU_E.S.E.精華區文章閱讀\\n-------------------...     環境\n",
              "3    日月光華 -- FDU_E.S.E.精華區文章閱讀\\n-------------------...     環境\n",
              "4    日月光華 -- FDU_E.S.E.精華區文章閱讀\\n-------------------...     環境\n",
              "..                                                 ...    ...\n",
              "96   日月光華 -- Economics精華區文章閱讀\\n--------------------...     經濟\n",
              "97   日月光華 -- Economics精華區文章閱讀\\n--------------------...     經濟\n",
              "98   日月光華 -- Economics精華區文章閱讀\\n--------------------...     經濟\n",
              "99   日月光華 -- Economics精華區文章閱讀\\n--------------------...     經濟\n",
              "100  日月光華 -- Economics精華區文章閱讀\\n--------------------...     經濟\n",
              "\n",
              "[101 rows x 2 columns]"
            ]
          },
          "metadata": {
            "tags": []
          },
          "execution_count": 10
        }
      ]
    },
    {
      "cell_type": "code",
      "metadata": {
        "id": "tpRBF38AycmS"
      },
      "source": [
        ""
      ],
      "execution_count": null,
      "outputs": []
    },
    {
      "cell_type": "code",
      "metadata": {
        "id": "aGHgje7GycpJ"
      },
      "source": [
        ""
      ],
      "execution_count": null,
      "outputs": []
    },
    {
      "cell_type": "code",
      "metadata": {
        "id": "wIsiZNB7ycrM"
      },
      "source": [
        ""
      ],
      "execution_count": null,
      "outputs": []
    }
  ]
}