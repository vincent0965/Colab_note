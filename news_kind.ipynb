{
  "nbformat": 4,
  "nbformat_minor": 0,
  "metadata": {
    "colab": {
      "name": "news_kind.ipynb",
      "provenance": [],
      "mount_file_id": "12iCgHSNOtA_xKuyirIB2WXJ5Bp1T9C8A",
      "authorship_tag": "ABX9TyNQM5yVTkcPzbThY9V7tlca",
      "include_colab_link": true
    },
    "kernelspec": {
      "name": "python3",
      "display_name": "Python 3"
    }
  },
  "cells": [
    {
      "cell_type": "markdown",
      "metadata": {
        "id": "view-in-github",
        "colab_type": "text"
      },
      "source": [
        "<a href=\"https://colab.research.google.com/github/vincent0965/Colab_note/blob/master/news_kind.ipynb\" target=\"_parent\"><img src=\"https://colab.research.google.com/assets/colab-badge.svg\" alt=\"Open In Colab\"/></a>"
      ]
    },
    {
      "cell_type": "code",
      "metadata": {
        "id": "Juxvjxm6w4ma"
      },
      "source": [
        "import glob\n",
        "glob.glob(\"drive/My Drive/*\")"
      ],
      "execution_count": null,
      "outputs": []
    },
    {
      "cell_type": "code",
      "metadata": {
        "id": "rNAOeJjsycTG"
      },
      "source": [
        "import zipfile\n",
        "path = \"drive/My Drive/chinese_news_test.zip\"\n",
        "f = zipfile.ZipFile(path)\n",
        "f.extractall()\n",
        "path = \"drive/My Drive/chinese_news_trans.zip\"\n",
        "f = zipfile.ZipFile(path)\n",
        "f.extractall()"
      ],
      "execution_count": 8,
      "outputs": []
    },
    {
      "cell_type": "code",
      "metadata": {
        "id": "VkyZtA7Jycav"
      },
      "source": [
        "import os\n",
        "import glob\n",
        "import pandas as pd\n",
        "\n",
        "def read_data(base):\n",
        "    contents, targets = [], []\n",
        "    basedn = os.path.join(base, \"*\")\n",
        "    for dn in glob.glob(basedn):\n",
        "        upper = os.path.join(dn, \"*.TXT\")\n",
        "        lower = os.path.join(dn, \"*.txt\")\n",
        "        for fn in glob.glob(upper) + glob.glob(lower):\n",
        "            with open(fn, \"r\", encoding=\"utf-8\") as f:\n",
        "                contents.append(f.read())\n",
        "            target = os.path.split(dn)[-1]\n",
        "            targets.append(target)\n",
        "    df = pd.DataFrame({\n",
        "        \"content\":contents,\n",
        "        \"target\":targets\n",
        "    })\n",
        "    return df\n",
        "train_df = read_data(\"chinese_news_trans\")\n",
        "test_df = read_data(\"chinese_news_test\")"
      ],
      "execution_count": 7,
      "outputs": []
    },
    {
      "cell_type": "code",
      "metadata": {
        "id": "qXS2GsBE5gR8",
        "outputId": "0317833e-a41c-4e91-dc63-b68db57ec795",
        "colab": {
          "base_uri": "https://localhost:8080/",
          "height": 402
        }
      },
      "source": [
        "train_df"
      ],
      "execution_count": 9,
      "outputs": [
        {
          "output_type": "execute_result",
          "data": {
            "text/html": [
              "<div>\n",
              "<style scoped>\n",
              "    .dataframe tbody tr th:only-of-type {\n",
              "        vertical-align: middle;\n",
              "    }\n",
              "\n",
              "    .dataframe tbody tr th {\n",
              "        vertical-align: top;\n",
              "    }\n",
              "\n",
              "    .dataframe thead th {\n",
              "        text-align: right;\n",
              "    }\n",
              "</style>\n",
              "<table border=\"1\" class=\"dataframe\">\n",
              "  <thead>\n",
              "    <tr style=\"text-align: right;\">\n",
              "      <th></th>\n",
              "      <th>content</th>\n",
              "      <th>target</th>\n",
              "    </tr>\n",
              "  </thead>\n",
              "  <tbody>\n",
              "    <tr>\n",
              "      <th>0</th>\n",
              "      <td>《瞭望》週刊文章：一個全球性的環境問題——垃圾\\n新華社北京５月１２日...</td>\n",
              "      <td>環境</td>\n",
              "    </tr>\n",
              "    <tr>\n",
              "      <th>1</th>\n",
              "      <td>英國確定溫室效應政策\\n新華社倫敦５月２５日電為了對付由於溫室效應引起...</td>\n",
              "      <td>環境</td>\n",
              "    </tr>\n",
              "    <tr>\n",
              "      <th>2</th>\n",
              "      <td>【 日  期 】19960610\\n【 版  號 】10\\n【 標  題 】海南人的藍色樂章...</td>\n",
              "      <td>環境</td>\n",
              "    </tr>\n",
              "    <tr>\n",
              "      <th>3</th>\n",
              "      <td>經國務院批准我國長江中上游防護林體系建設工程全\\n面展開\\n    (...</td>\n",
              "      <td>環境</td>\n",
              "    </tr>\n",
              "    <tr>\n",
              "      <th>4</th>\n",
              "      <td>【 日  期 】19960105\\n【 版  號 】7\\n【 標  題 】科學家選出２０種最...</td>\n",
              "      <td>環境</td>\n",
              "    </tr>\n",
              "    <tr>\n",
              "      <th>...</th>\n",
              "      <td>...</td>\n",
              "      <td>...</td>\n",
              "    </tr>\n",
              "    <tr>\n",
              "      <th>2632</th>\n",
              "      <td>日月光華 -- Economics精華區文章閱讀\\n--------------------...</td>\n",
              "      <td>經濟</td>\n",
              "    </tr>\n",
              "    <tr>\n",
              "      <th>2633</th>\n",
              "      <td>日月光華 -- Economics精華區文章閱讀\\n--------------------...</td>\n",
              "      <td>經濟</td>\n",
              "    </tr>\n",
              "    <tr>\n",
              "      <th>2634</th>\n",
              "      <td>日月光華 -- Economics精華區文章閱讀\\n--------------------...</td>\n",
              "      <td>經濟</td>\n",
              "    </tr>\n",
              "    <tr>\n",
              "      <th>2635</th>\n",
              "      <td>日月光華 -- Economics精華區文章閱讀\\n--------------------...</td>\n",
              "      <td>經濟</td>\n",
              "    </tr>\n",
              "    <tr>\n",
              "      <th>2636</th>\n",
              "      <td>日月光華 -- Economics精華區文章閱讀\\n--------------------...</td>\n",
              "      <td>經濟</td>\n",
              "    </tr>\n",
              "  </tbody>\n",
              "</table>\n",
              "<p>2637 rows × 2 columns</p>\n",
              "</div>"
            ],
            "text/plain": [
              "                                                content target\n",
              "0                《瞭望》週刊文章：一個全球性的環境問題——垃圾\\n新華社北京５月１２日...     環境\n",
              "1                英國確定溫室效應政策\\n新華社倫敦５月２５日電為了對付由於溫室效應引起...     環境\n",
              "2     【 日  期 】19960610\\n【 版  號 】10\\n【 標  題 】海南人的藍色樂章...     環境\n",
              "3                經國務院批准我國長江中上游防護林體系建設工程全\\n面展開\\n    (...     環境\n",
              "4     【 日  期 】19960105\\n【 版  號 】7\\n【 標  題 】科學家選出２０種最...     環境\n",
              "...                                                 ...    ...\n",
              "2632  日月光華 -- Economics精華區文章閱讀\\n--------------------...     經濟\n",
              "2633  日月光華 -- Economics精華區文章閱讀\\n--------------------...     經濟\n",
              "2634  日月光華 -- Economics精華區文章閱讀\\n--------------------...     經濟\n",
              "2635  日月光華 -- Economics精華區文章閱讀\\n--------------------...     經濟\n",
              "2636  日月光華 -- Economics精華區文章閱讀\\n--------------------...     經濟\n",
              "\n",
              "[2637 rows x 2 columns]"
            ]
          },
          "metadata": {
            "tags": []
          },
          "execution_count": 9
        }
      ]
    },
    {
      "cell_type": "code",
      "metadata": {
        "id": "QrzvjW-6yckA",
        "outputId": "2d16d0cf-70fc-46e7-fc85-9545b6d6364e",
        "colab": {
          "base_uri": "https://localhost:8080/",
          "height": 402
        }
      },
      "source": [
        "test_df"
      ],
      "execution_count": 10,
      "outputs": [
        {
          "output_type": "execute_result",
          "data": {
            "text/html": [
              "<div>\n",
              "<style scoped>\n",
              "    .dataframe tbody tr th:only-of-type {\n",
              "        vertical-align: middle;\n",
              "    }\n",
              "\n",
              "    .dataframe tbody tr th {\n",
              "        vertical-align: top;\n",
              "    }\n",
              "\n",
              "    .dataframe thead th {\n",
              "        text-align: right;\n",
              "    }\n",
              "</style>\n",
              "<table border=\"1\" class=\"dataframe\">\n",
              "  <thead>\n",
              "    <tr style=\"text-align: right;\">\n",
              "      <th></th>\n",
              "      <th>content</th>\n",
              "      <th>target</th>\n",
              "    </tr>\n",
              "  </thead>\n",
              "  <tbody>\n",
              "    <tr>\n",
              "      <th>0</th>\n",
              "      <td>日月光華 -- FDU_E.S.E.精華區文章閱讀\\n-------------------...</td>\n",
              "      <td>環境</td>\n",
              "    </tr>\n",
              "    <tr>\n",
              "      <th>1</th>\n",
              "      <td>日月光華 -- FDU_E.S.E.精華區文章閱讀\\n-------------------...</td>\n",
              "      <td>環境</td>\n",
              "    </tr>\n",
              "    <tr>\n",
              "      <th>2</th>\n",
              "      <td>日月光華 -- FDU_E.S.E.精華區文章閱讀\\n-------------------...</td>\n",
              "      <td>環境</td>\n",
              "    </tr>\n",
              "    <tr>\n",
              "      <th>3</th>\n",
              "      <td>日月光華 -- FDU_E.S.E.精華區文章閱讀\\n-------------------...</td>\n",
              "      <td>環境</td>\n",
              "    </tr>\n",
              "    <tr>\n",
              "      <th>4</th>\n",
              "      <td>日月光華 -- FDU_E.S.E.精華區文章閱讀\\n-------------------...</td>\n",
              "      <td>環境</td>\n",
              "    </tr>\n",
              "    <tr>\n",
              "      <th>...</th>\n",
              "      <td>...</td>\n",
              "      <td>...</td>\n",
              "    </tr>\n",
              "    <tr>\n",
              "      <th>96</th>\n",
              "      <td>日月光華 -- Economics精華區文章閱讀\\n--------------------...</td>\n",
              "      <td>經濟</td>\n",
              "    </tr>\n",
              "    <tr>\n",
              "      <th>97</th>\n",
              "      <td>日月光華 -- Economics精華區文章閱讀\\n--------------------...</td>\n",
              "      <td>經濟</td>\n",
              "    </tr>\n",
              "    <tr>\n",
              "      <th>98</th>\n",
              "      <td>日月光華 -- Economics精華區文章閱讀\\n--------------------...</td>\n",
              "      <td>經濟</td>\n",
              "    </tr>\n",
              "    <tr>\n",
              "      <th>99</th>\n",
              "      <td>日月光華 -- Economics精華區文章閱讀\\n--------------------...</td>\n",
              "      <td>經濟</td>\n",
              "    </tr>\n",
              "    <tr>\n",
              "      <th>100</th>\n",
              "      <td>日月光華 -- Economics精華區文章閱讀\\n--------------------...</td>\n",
              "      <td>經濟</td>\n",
              "    </tr>\n",
              "  </tbody>\n",
              "</table>\n",
              "<p>101 rows × 2 columns</p>\n",
              "</div>"
            ],
            "text/plain": [
              "                                               content target\n",
              "0    日月光華 -- FDU_E.S.E.精華區文章閱讀\\n-------------------...     環境\n",
              "1    日月光華 -- FDU_E.S.E.精華區文章閱讀\\n-------------------...     環境\n",
              "2    日月光華 -- FDU_E.S.E.精華區文章閱讀\\n-------------------...     環境\n",
              "3    日月光華 -- FDU_E.S.E.精華區文章閱讀\\n-------------------...     環境\n",
              "4    日月光華 -- FDU_E.S.E.精華區文章閱讀\\n-------------------...     環境\n",
              "..                                                 ...    ...\n",
              "96   日月光華 -- Economics精華區文章閱讀\\n--------------------...     經濟\n",
              "97   日月光華 -- Economics精華區文章閱讀\\n--------------------...     經濟\n",
              "98   日月光華 -- Economics精華區文章閱讀\\n--------------------...     經濟\n",
              "99   日月光華 -- Economics精華區文章閱讀\\n--------------------...     經濟\n",
              "100  日月光華 -- Economics精華區文章閱讀\\n--------------------...     經濟\n",
              "\n",
              "[101 rows x 2 columns]"
            ]
          },
          "metadata": {
            "tags": []
          },
          "execution_count": 10
        }
      ]
    },
    {
      "cell_type": "code",
      "metadata": {
        "id": "tpRBF38AycmS",
        "outputId": "9bc144c8-0b99-4b36-83b2-80b8f7708c95",
        "colab": {
          "base_uri": "https://localhost:8080/"
        }
      },
      "source": [
        "# Series.replace({\"李白\":0})\n",
        "# unique/value_counts\n",
        "cat = train_df[\"target\"].unique()\n",
        "trans = {w:i for i, w in enumerate(cat)}\n",
        "trans_r = {i:w for i, w in enumerate(cat)}\n",
        "# 維度轉換\n",
        "y_train = train_df[\"target\"].replace(trans)\n",
        "y_test = test_df[\"target\"].replace(trans)\n",
        "y_test"
      ],
      "execution_count": 11,
      "outputs": [
        {
          "output_type": "execute_result",
          "data": {
            "text/plain": [
              "0      0\n",
              "1      0\n",
              "2      0\n",
              "3      0\n",
              "4      0\n",
              "      ..\n",
              "96     9\n",
              "97     9\n",
              "98     9\n",
              "99     9\n",
              "100    9\n",
              "Name: target, Length: 101, dtype: int64"
            ]
          },
          "metadata": {
            "tags": []
          },
          "execution_count": 11
        }
      ]
    },
    {
      "cell_type": "code",
      "metadata": {
        "id": "aGHgje7GycpJ",
        "outputId": "b1a6198d-5c88-4a18-bc6f-ed668beaef45",
        "colab": {
          "base_uri": "https://localhost:8080/"
        }
      },
      "source": [
        "import jieba\n",
        "from urllib.request import urlretrieve\n",
        "url = \"https://github.com/fxsjy/jieba/raw/master/extra_dict/dict.txt.big\"\n",
        "urlretrieve(url, \"dict.txt.big\")\n",
        "jieba.set_dictionary(\"dict.txt.big\")\n",
        "# apply(函式名字)\n",
        "def newscut(p):\n",
        "    return \" \".join(jieba.cut(p))\n",
        "x_train = train_df[\"content\"].apply(newscut)\n",
        "x_test = test_df[\"content\"].apply(newscut)\n",
        "x_test"
      ],
      "execution_count": 14,
      "outputs": [
        {
          "output_type": "stream",
          "text": [
            "Building prefix dict from /content/dict.txt.big ...\n",
            "Dumping model to file cache /tmp/jieba.u501edca284da514cb68b53a20324f4e3.cache\n",
            "Loading model cost 1.566 seconds.\n",
            "Prefix dict has been built successfully.\n"
          ],
          "name": "stderr"
        },
        {
          "output_type": "execute_result",
          "data": {
            "text/plain": [
              "0      日月 光華   --   FDU _ E . S . E . 精華區 文章 閱讀 \\n --...\n",
              "1      日月 光華   --   FDU _ E . S . E . 精華區 文章 閱讀 \\n --...\n",
              "2      日月 光華   --   FDU _ E . S . E . 精華區 文章 閱讀 \\n --...\n",
              "3      日月 光華   --   FDU _ E . S . E . 精華區 文章 閱讀 \\n --...\n",
              "4      日月 光華   --   FDU _ E . S . E . 精華區 文章 閱讀 \\n --...\n",
              "                             ...                        \n",
              "96     日月 光華   --   Economics 精華區 文章 閱讀 \\n ----------...\n",
              "97     日月 光華   --   Economics 精華區 文章 閱讀 \\n ----------...\n",
              "98     日月 光華   --   Economics 精華區 文章 閱讀 \\n ----------...\n",
              "99     日月 光華   --   Economics 精華區 文章 閱讀 \\n ----------...\n",
              "100    日月 光華   --   Economics 精華區 文章 閱讀 \\n ----------...\n",
              "Name: content, Length: 101, dtype: object"
            ]
          },
          "metadata": {
            "tags": []
          },
          "execution_count": 14
        }
      ]
    },
    {
      "cell_type": "code",
      "metadata": {
        "id": "sV8kut2PDPXj"
      },
      "source": [
        "from sklearn.feature_extraction.text import CountVectorizer\n",
        "vec = CountVectorizer()\n",
        "x_train_count = vec.fit_transform(x_train)\n",
        "x_test_count = vec.transform(x_test)"
      ],
      "execution_count": 15,
      "outputs": []
    },
    {
      "cell_type": "code",
      "metadata": {
        "id": "wIsiZNB7ycrM",
        "outputId": "21ee81a8-58b0-4dd9-a8ea-f4c970ef7179",
        "colab": {
          "base_uri": "https://localhost:8080/"
        }
      },
      "source": [
        "from sklearn.naive_bayes import MultinomialNB\n",
        "clf = MultinomialNB(alpha=0.1)\n",
        "clf.fit(x_train_count, y_train)"
      ],
      "execution_count": 16,
      "outputs": [
        {
          "output_type": "execute_result",
          "data": {
            "text/plain": [
              "MultinomialNB(alpha=0.1, class_prior=None, fit_prior=True)"
            ]
          },
          "metadata": {
            "tags": []
          },
          "execution_count": 16
        }
      ]
    },
    {
      "cell_type": "code",
      "metadata": {
        "id": "SbVvmc7VAc1q",
        "outputId": "4a732114-dcc1-41c5-83fc-414c90ee271f",
        "colab": {
          "base_uri": "https://localhost:8080/"
        }
      },
      "source": [
        "from sklearn.metrics import accuracy_score\n",
        "pre = clf.predict(x_test_count)\n",
        "accuracy_score(pre, y_test)"
      ],
      "execution_count": 17,
      "outputs": [
        {
          "output_type": "execute_result",
          "data": {
            "text/plain": [
              "1.0"
            ]
          },
          "metadata": {
            "tags": []
          },
          "execution_count": 17
        }
      ]
    },
    {
      "cell_type": "code",
      "metadata": {
        "id": "pN2q5xDfA-xt",
        "outputId": "72a800db-b260-4304-a2db-275510dd5888",
        "colab": {
          "base_uri": "https://localhost:8080/"
        }
      },
      "source": [
        "p = input(\"輸入新聞:\")\n",
        "x_predict = vec.transform([newscut(p)])\n",
        "proba = clf.predict_proba(x_predict)[0]\n",
        "for w, p in zip(cat, proba):\n",
        "    print(w, \":\", round(p, 4))"
      ],
      "execution_count": 19,
      "outputs": [
        {
          "output_type": "stream",
          "text": [
            "輸入新聞:美國國務卿龐培歐訪問日本，他接受日媒專訪時透露，有意打造一個「對抗中國共產黨的安全保障網」。被問及中共武力犯台，美方是否會協防台灣？龐培歐表示，美國將採取一切行動，緩解區域的緊張情勢，「坐視中國的行為並非正確答案，不論是對台灣或日本，美國一直是安全保障上的夥伴」。  打造「對抗中共的安全保障網」 龐培歐接受日本經濟新聞專訪時明確表達，有意打造一個「對抗中國共產黨的安全保障網」，希望將美、日、印、澳四國合作制度化後，擴大到周邊其他國家，建立印度太平洋地區的多邊安保框架，強化具有共同價值觀和戰略的國家間的凝聚力，劍指中國。  美國與台灣 有相同的價值觀 台美關係上，他提到，美國與台灣建立長期關係，有著相同的價值觀，但令人遺憾的是，中國共產黨拒絕這樣做，也未讓香港維持五十年高度自治。  中國暴力手段 不是大國作為 被問到若中國單方面攻擊台灣，美國是否準備捍衛台灣？龐培歐表示，美方將採取一切措施緩解區域的緊張局勢。這是川普政府在全球的任務；美方不是要挑起衝突，而是在尋求和平，該感到羞恥的是中國共產黨；除了與越南關係緊張，迫使日方不得不在釣魚台空域頻繁緊急升空因應，還有喜馬拉雅（中印邊境）發生的事情，中國用暴力手段，不是大國應有的所為。  美中對立 是國際社會的問題 龐培歐在接受ＮＨＫ專訪時，對於美中因台、港加深對立，他認為這不是美國對上中國的問題，而是自由與專制政治要選擇哪邊的問題，讓使用軍事或威迫力量欺壓弱者的國家來支配世界好嗎？他強調，美中對立並非雙邊問題，而是國際社會的問題。  龐培歐譴責中國在南海及東海誇耀軍事力量，持續採取威迫性行動。他說，這是緊急課題，全球長期以來被置於中國威脅下，現在是必須認真因應這個問題的時候。\n",
            "環境 : 0.0\n",
            "體育 : 0.0\n",
            "交通 : 0.0\n",
            "醫藥 : 0.0\n",
            "軍事 : 0.0\n",
            "藝術 : 0.0\n",
            "計算機 : 0.0\n",
            "教育 : 0.0\n",
            "政治 : 1.0\n",
            "經濟 : 0.0\n"
          ],
          "name": "stdout"
        }
      ]
    }
  ]
}