{
  "nbformat": 4,
  "nbformat_minor": 0,
  "metadata": {
    "colab": {
      "name": "tools.ipynb",
      "provenance": [],
      "collapsed_sections": [],
      "authorship_tag": "ABX9TyP8M5l2bop1VFiUGgMKgpLt",
      "include_colab_link": true
    },
    "kernelspec": {
      "name": "python3",
      "display_name": "Python 3"
    }
  },
  "cells": [
    {
      "cell_type": "markdown",
      "metadata": {
        "id": "view-in-github",
        "colab_type": "text"
      },
      "source": [
        "<a href=\"https://colab.research.google.com/github/vincent0965/Colab_note/blob/master/tools.ipynb\" target=\"_parent\"><img src=\"https://colab.research.google.com/assets/colab-badge.svg\" alt=\"Open In Colab\"/></a>"
      ]
    },
    {
      "cell_type": "code",
      "metadata": {
        "id": "-IZk3-_qqLX4"
      },
      "source": [
        "!pip install opencc-python-reimplemented"
      ],
      "execution_count": null,
      "outputs": []
    },
    {
      "cell_type": "markdown",
      "metadata": {
        "id": "eHtFdN59t0Pp"
      },
      "source": [
        "簡體轉繁體"
      ]
    },
    {
      "cell_type": "code",
      "metadata": {
        "id": "9gSU7QfwsTyo",
        "outputId": "50d7e529-a6d3-4c46-c8f3-345bb153fce4",
        "colab": {
          "base_uri": "https://localhost:8080/",
          "height": 86
        }
      },
      "source": [
        "from opencc import OpenCC\n",
        "with open(\"a.txt\", \"r\", encoding = \"utf8\") as f :\n",
        "  sim = f.read()\n",
        "\n",
        "cc = OpenCC('s2twp')  \n",
        "converted = cc.convert(sim)\n",
        "converted"
      ],
      "execution_count": null,
      "outputs": [
        {
          "output_type": "execute_result",
          "data": {
            "application/vnd.google.colaboratory.intrinsic+json": {
              "type": "string"
            },
            "text/plain": [
              "'國慶節是由一個國家制定的用來紀念國家本身的法定假日。它們通常是這個國家的獨立、憲法的簽署、元首誕辰或其他有重大紀念意義的週年紀念日；也有些是這個國家守護神的聖人節。\\n雖然絕大部分國家都有類似的紀念日，但是由於複雜的政治關係，部分國家的這一節日不能夠稱為國慶日，比如美國只有獨立日，沒有國慶日，但是兩者意義相同。\\n而中國古代把皇帝即位、誕辰稱為“國慶”。如今，中國國慶節特指中華人民共和國正式成立的紀念日10月1日。\\n世界歷史上最悠久的國慶節是聖馬利諾的國慶節，遠在公元301年，聖馬利諾就把9月3日定為自己的國慶節。'"
            ]
          },
          "metadata": {
            "tags": []
          },
          "execution_count": 6
        }
      ]
    },
    {
      "cell_type": "code",
      "metadata": {
        "id": "mXs4Vx99v7-F"
      },
      "source": [
        "import os\n",
        "import jieba\n",
        "from urllib.request import urlretrieve\n",
        "if not os.path.exists(\"dict.txt.big\"):\n",
        "  url = \"https://github.com/fxsjy/jieba/raw/master/extra_dict/dict.txt.big\"\n",
        "  urlretrieve(url, \"dict.txt.big\")\n",
        "jieba.set_dictionary(\"dict.txt.big\")\n",
        "# jieba函式庫本身所包含的辭典\n",
        "jieba.load_userdict(\"dict.pplitics\")\n",
        "# 自定義辭典 將其放入檔案區進行讀取 等下次開啟時會抓取檔案\n",
        "with open(\"news.txt\", \"r\", encoding = \"utf8\") as f :\n",
        "  news = f.read()\n",
        "\" \".join(jieba.cut(news))\n",
        "\n"
      ],
      "execution_count": null,
      "outputs": []
    },
    {
      "cell_type": "code",
      "metadata": {
        "id": "MIYhmgpuRPqj"
      },
      "source": [
        "import jieba.analyse\n",
        "jieba.analyse.extract_tags(news)"
      ],
      "execution_count": null,
      "outputs": []
    }
  ]
}